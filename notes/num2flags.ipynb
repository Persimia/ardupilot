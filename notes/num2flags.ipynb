{
 "cells": [
  {
   "cell_type": "code",
   "execution_count": 8,
   "metadata": {},
   "outputs": [
    {
     "name": "stdout",
     "output_type": "stream",
     "text": [
      "True flags:\n",
      "- DOCK_FOUND\n",
      "- DOCK_STABLE\n",
      "- WITHIN_COAST_IN_DIST\n",
      "- ATTACHED\n",
      "- HEADING_NORMAL_ALIGNED\n",
      "- DETACH_BUTTON_PRESSED\n"
     ]
    }
   ],
   "source": [
    "def decode_flags(flags_bitmask):\n",
    "    # Define the flags in the same order as the bitmask\n",
    "    flags = [\n",
    "        \"DOCK_FOUND\",\n",
    "        \"DOCK_STABLE\",\n",
    "        \"WITHIN_COAST_IN_DIST\",\n",
    "        \"ATTACHED\",\n",
    "        \"VEHICLE_STATIONARY\",\n",
    "        \"ATTACH_BUTTON_PRESSED\",\n",
    "        \"AT_RECOVERY_POSITION\",\n",
    "        \"BEYOND_COAST_OUT_DIST\",\n",
    "        \"THROTTLE_WOUND_DOWN\",\n",
    "        \"AT_WIND_UP_PITCH\",\n",
    "        \"HEADING_NORMAL_ALIGNED\",\n",
    "        \"DETACH_BUTTON_PRESSED\",\n",
    "        \"DOCK_COMMS_HEALTHY\",\n",
    "    ]\n",
    "\n",
    "    # Iterate through the flags and check if the corresponding bit is set\n",
    "    true_flags = [flags[i] for i in range(len(flags)) if (flags_bitmask & (1 << i)) != 0]\n",
    "\n",
    "    return true_flags\n",
    "\n",
    "\n",
    "# Example usage\n",
    "decimal_value = 3087  # Replace with the decimal value of your bitmask\n",
    "true_flags = decode_flags(decimal_value)\n",
    "\n",
    "# Print the true flags\n",
    "print(\"True flags:\")\n",
    "for flag in true_flags:\n",
    "    print(f\"- {flag}\")\n"
   ]
  },
  {
   "cell_type": "code",
   "execution_count": 3,
   "metadata": {},
   "outputs": [
    {
     "name": "stdout",
     "output_type": "stream",
     "text": [
      "True flags:\n",
      "- DOCK_FOUND\n",
      "- DOCK_STABLE\n",
      "- WITHIN_COAST_IN_DIST\n",
      "- ATTACHED\n",
      "- HEADING_NORMAL_ALIGNED\n",
      "- DETACH_BUTTON_PRESSED\n"
     ]
    }
   ],
   "source": [
    "def decode_flags(flags_bitmask):\n",
    "    # Define the flags in the same order as the bitmask\n",
    "    flags = [\n",
    "        \"DOCK_FOUND\",\n",
    "        \"DOCK_STABLE\",\n",
    "        \"WITHIN_COAST_IN_DIST\",\n",
    "        \"ATTACHED\",\n",
    "        \"VEHICLE_STATIONARY\",\n",
    "        \"ATTACH_BUTTON_PRESSED\",\n",
    "        \"AT_RECOVERY_POSITION\",\n",
    "        \"BEYOND_COAST_OUT_DIST\",\n",
    "        \"THROTTLE_WOUND_DOWN\",\n",
    "        \"AT_WIND_UP_PITCH\",\n",
    "        \"HEADING_NORMAL_ALIGNED\",\n",
    "        \"DETACH_BUTTON_PRESSED\",\n",
    "        \"DOCK_COMMS_HEALTHY\",\n",
    "    ]\n",
    "\n",
    "    # Iterate through the flags and check if the corresponding bit is set\n",
    "    true_flags = [flags[i] for i in range(len(flags)) if (flags_bitmask & (1 << i)) != 0]\n",
    "\n",
    "    return true_flags\n",
    "\n",
    "\n",
    "# Example usage\n",
    "decimal_value = 3087  # Replace with the decimal value of your bitmask\n",
    "true_flags = decode_flags(decimal_value)\n",
    "\n",
    "# Print the true flags\n",
    "print(\"True flags:\")\n",
    "for flag in true_flags:\n",
    "    print(f\"- {flag}\")"
   ]
  },
  {
   "cell_type": "code",
   "execution_count": 6,
   "metadata": {},
   "outputs": [
    {
     "name": "stdout",
     "output_type": "stream",
     "text": [
      "True flags:\n",
      "- DOCK_FOUND\n",
      "- DOCK_STABLE\n",
      "- WITHIN_COAST_IN_DIST\n",
      "- ATTACHED\n",
      "- VEHICLE_STATIONARY\n",
      "- HEADING_NORMAL_ALIGNED\n",
      "- DETACH_BUTTON_PRESSED\n"
     ]
    }
   ],
   "source": [
    "def decode_flags(flags_bitmask):\n",
    "    # Define the flags in the same order as the bitmask\n",
    "    flags = [\n",
    "        \"DOCK_FOUND\",\n",
    "        \"DOCK_STABLE\",\n",
    "        \"WITHIN_COAST_IN_DIST\",\n",
    "        \"ATTACHED\",\n",
    "        \"VEHICLE_STATIONARY\",\n",
    "        \"ATTACH_BUTTON_PRESSED\",\n",
    "        \"AT_RECOVERY_POSITION\",\n",
    "        \"BEYOND_COAST_OUT_DIST\",\n",
    "        \"THROTTLE_WOUND_DOWN\",\n",
    "        \"AT_WIND_UP_PITCH\",\n",
    "        \"HEADING_NORMAL_ALIGNED\",\n",
    "        \"DETACH_BUTTON_PRESSED\",\n",
    "        \"DOCK_COMMS_HEALTHY\",\n",
    "    ]\n",
    "\n",
    "    # Iterate through the flags and check if the corresponding bit is set\n",
    "    true_flags = [flags[i] for i in range(len(flags)) if (flags_bitmask & (1 << i)) != 0]\n",
    "\n",
    "    return true_flags\n",
    "\n",
    "\n",
    "# Example usage\n",
    "decimal_value = 3103  # Replace with the decimal value of your bitmask\n",
    "true_flags = decode_flags(decimal_value)\n",
    "\n",
    "# Print the true flags\n",
    "print(\"True flags:\")\n",
    "for flag in true_flags:\n",
    "    print(f\"- {flag}\")"
   ]
  }
 ],
 "metadata": {
  "kernelspec": {
   "display_name": "Python 3",
   "language": "python",
   "name": "python3"
  },
  "language_info": {
   "codemirror_mode": {
    "name": "ipython",
    "version": 3
   },
   "file_extension": ".py",
   "mimetype": "text/x-python",
   "name": "python",
   "nbconvert_exporter": "python",
   "pygments_lexer": "ipython3",
   "version": "3.10.12"
  }
 },
 "nbformat": 4,
 "nbformat_minor": 2
}
